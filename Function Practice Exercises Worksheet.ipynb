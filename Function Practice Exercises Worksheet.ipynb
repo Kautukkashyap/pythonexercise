{
 "cells": [
  {
   "cell_type": "code",
   "execution_count": 1,
   "metadata": {},
   "outputs": [],
   "source": [
    "def find_three(lst):\n",
    "    '''Given a list of ints, return True if the array contains a 3 next to a 3 somewhere.'''\n",
    "    three_index=lst.index(3)\n",
    "    if (lst[three_index+1]==3):\n",
    "        return True\n",
    "    else:\n",
    "        return False"
   ]
  },
  {
   "cell_type": "code",
   "execution_count": 2,
   "metadata": {},
   "outputs": [
    {
     "data": {
      "text/plain": [
       "False"
      ]
     },
     "execution_count": 2,
     "metadata": {},
     "output_type": "execute_result"
    }
   ],
   "source": [
    "find_three([3,1,3])"
   ]
  },
  {
   "cell_type": "code",
   "execution_count": 3,
   "metadata": {},
   "outputs": [],
   "source": [
    "def multi_char(string):\n",
    "    '''Given a string, return a string where for every character in the original there are three characters'''\n",
    "    string_lst=[]\n",
    "    for i in range(len(string)):\n",
    "        string_lst.append(string[i]*3)\n",
    "    return ''.join(string_lst)"
   ]
  },
  {
   "cell_type": "code",
   "execution_count": 6,
   "metadata": {},
   "outputs": [
    {
     "data": {
      "text/plain": [
       "'MMMiiissssssiiissssssiiippppppiii'"
      ]
     },
     "execution_count": 6,
     "metadata": {},
     "output_type": "execute_result"
    }
   ],
   "source": [
    "multi_char('Mississippi')"
   ]
  },
  {
   "cell_type": "code",
   "execution_count": 7,
   "metadata": {},
   "outputs": [],
   "source": [
    "def blackjack(a,b,c):\n",
    "    '''Given three integers between 1 and 11, if their sum is less than or equal to 21, return their sum.'''\n",
    "    '''If their sum exceeds 21 and there's an eleven, reduce the total sum by 10.'''\n",
    "    '''Finally, if the sum (even after adjustment) exceeds 21, return 'BUST' '''\n",
    "    sum_of_num=a+b+c\n",
    "    if sum_of_num <=21:\n",
    "        return sum_of_num\n",
    "    elif (sum_of_num > 21) and (a==11 or b==11 or c==11):\n",
    "        return sum_of_num-10\n",
    "    else:\n",
    "        return 'BUST'"
   ]
  },
  {
   "cell_type": "code",
   "execution_count": 14,
   "metadata": {},
   "outputs": [
    {
     "data": {
      "text/plain": [
       "19"
      ]
     },
     "execution_count": 14,
     "metadata": {},
     "output_type": "execute_result"
    }
   ],
   "source": [
    "blackjack(9,9,11)"
   ]
  },
  {
   "cell_type": "code",
   "execution_count": 34,
   "metadata": {},
   "outputs": [],
   "source": [
    "def summer_of_69(lst):\n",
    "    '''Return the sum of the numbers in the array, except ignore sections of numbers starting with a 6 and \n",
    "    extending to the next 9 (every 6 will be followed by at least one 9). \n",
    "    Return 0 for no numbers.'''\n",
    "    sum_1=0\n",
    "    for i in range(len(lst)):\n",
    "        if (lst[i]==6 or lst[i]==7 or lst[i]==8 or lst[i]==9):\n",
    "            sum_1 +=0\n",
    "        else:\n",
    "            sum_1 +=lst[i]\n",
    "    return sum_1"
   ]
  },
  {
   "cell_type": "code",
   "execution_count": 35,
   "metadata": {},
   "outputs": [
    {
     "data": {
      "text/plain": [
       "0"
      ]
     },
     "execution_count": 35,
     "metadata": {},
     "output_type": "execute_result"
    }
   ],
   "source": [
    "summer_of_69([6, 9])"
   ]
  },
  {
   "cell_type": "code",
   "execution_count": 152,
   "metadata": {},
   "outputs": [],
   "source": [
    "def spy_game(lst):\n",
    "    '''function that takes in a list of integers and returns True if it contains 007 in order'''\n",
    "    flag=0\n",
    "    index_lst_zero=[]\n",
    "    index_of_seven=lst.index(7)\n",
    "    count_of_zero=lst.count(0)\n",
    "    for i in range(len(lst)):\n",
    "        if lst[i]==0:\n",
    "            index_lst_zero.append(i)\n",
    "    for x in range(len(index_lst_zero)):\n",
    "        if (count_of_zero>1) and (index_lst_zero[x]<index_of_seven):\n",
    "            flag=1\n",
    "        else:\n",
    "            flag=0\n",
    "    if flag==0:\n",
    "        return False\n",
    "    else:\n",
    "        return True"
   ]
  },
  {
   "cell_type": "code",
   "execution_count": 256,
   "metadata": {},
   "outputs": [],
   "source": [
    "def prime(no):\n",
    "    '''write a function that returns the number of prime numbers that exist up to and including a given number'''\n",
    "    count=0\n",
    "    prime_no=[]\n",
    "    for i in range(1,no+1):\n",
    "        #print(i)\n",
    "        #rng=i//2\n",
    "        for x in range(2,i):\n",
    "            print(x,end=' ')\n",
    "            print('*',end='')\n",
    "            '''if x==1:\n",
    "                pass\n",
    "            elif i%x==1:\n",
    "                prime_no.append(i)\n",
    "                count +=1'''\n",
    "\n",
    "    #print('Total no of prime are:',count)\n",
    "    #print(\"Prime nos are\",prime_no)"
   ]
  },
  {
   "cell_type": "code",
   "execution_count": 438,
   "metadata": {
    "scrolled": true
   },
   "outputs": [
    {
     "name": "stdout",
     "output_type": "stream",
     "text": [
      "3 moduls 2 is 1\n",
      "4 moduls 2 is 0\n",
      "5 moduls 2 is 1\n",
      "5 moduls 3 is 2\n",
      "5 moduls 4 is 1\n",
      "6 moduls 2 is 0\n",
      "7 moduls 2 is 1\n",
      "7 moduls 3 is 1\n",
      "7 moduls 4 is 3\n",
      "7 moduls 5 is 2\n",
      "7 moduls 6 is 1\n",
      "8 moduls 2 is 0\n",
      "9 moduls 2 is 1\n",
      "9 moduls 3 is 0\n",
      "10 moduls 2 is 0\n",
      "11 moduls 2 is 1\n",
      "11 moduls 3 is 2\n",
      "11 moduls 4 is 3\n",
      "11 moduls 5 is 1\n",
      "11 moduls 6 is 5\n",
      "11 moduls 7 is 4\n",
      "11 moduls 8 is 3\n",
      "11 moduls 9 is 2\n",
      "11 moduls 10 is 1\n",
      "total no of prime till 11 is 6\n"
     ]
    }
   ],
   "source": [
    "count=0\n",
    "lst=[]\n",
    "no=11\n",
    "for x in range(1,no+1):\n",
    "    if x==2:\n",
    "        lst.append(x)\n",
    "    else:\n",
    "        for i in range(1,x):\n",
    "            if i==1:\n",
    "                continue\n",
    "            elif x%i==0:\n",
    "                print('{} moduls {} is {}'.format(x,i,x%i))\n",
    "                break\n",
    "            elif x%2==1 and x%i >=1:\n",
    "                lst.append(x)\n",
    "                print('{} moduls {} is {}'.format(x,i,x%i))\n",
    "total_prime=len(set(lst))\n",
    "print('total no of prime till {} is {}'.format(no,total_prime))\n",
    "            #print('{}'.format(count=count+1))\n",
    "        #else:\n",
    "            #print('{} modulas {} is {}'.format(x,i,x%i))"
   ]
  },
  {
   "cell_type": "code",
   "execution_count": null,
   "metadata": {},
   "outputs": [],
   "source": [
    "2,3,4,5,6,7,8,9,10,11"
   ]
  },
  {
   "cell_type": "code",
   "execution_count": 466,
   "metadata": {},
   "outputs": [
    {
     "ename": "IndentationError",
     "evalue": "expected an indented block (<ipython-input-466-30b2f4a9917c>, line 18)",
     "output_type": "error",
     "traceback": [
      "\u001b[1;36m  File \u001b[1;32m\"<ipython-input-466-30b2f4a9917c>\"\u001b[1;36m, line \u001b[1;32m18\u001b[0m\n\u001b[1;33m    lst.append(x)\u001b[0m\n\u001b[1;37m                 ^\u001b[0m\n\u001b[1;31mIndentationError\u001b[0m\u001b[1;31m:\u001b[0m expected an indented block\n"
     ]
    }
   ],
   "source": [
    "count=0\n",
    "no=17\n",
    "lst=[]\n",
    "for x in range(1,no+1):\n",
    "    if x==2:\n",
    "        lst.append(x)\n",
    "    else:\n",
    "        for i in range(0,x):\n",
    "            if i==0 or i==1:\n",
    "                continue\n",
    "            elif x%i==0:\n",
    "                count=0\n",
    "                break\n",
    "    elif x%i >0:\n",
    "            count +=1\n",
    "    print('for no {} count is {} '.format(x,count))\n",
    "    if count >0:\n",
    "        lst.append(x)\n",
    "print(lst)\n",
    "        \n",
    "            \n",
    "    "
   ]
  },
  {
   "cell_type": "code",
   "execution_count": 467,
   "metadata": {},
   "outputs": [],
   "source": [
    "def prime(no):\n",
    "    count=0\n",
    "    lst=[]\n",
    "    for x in range(1,no+1):\n",
    "        if x==2:\n",
    "            lst.append(x)\n",
    "        else:\n",
    "            for i in range(0,x):\n",
    "                if i==0 or i==1:\n",
    "                    continue\n",
    "                elif x%i==0:\n",
    "                    count=0\n",
    "                    break\n",
    "                elif x%i >0:\n",
    "                    count +=1\n",
    "            if count>0:\n",
    "                lst.append(x)\n",
    "    return len(lst)"
   ]
  },
  {
   "cell_type": "code",
   "execution_count": 473,
   "metadata": {},
   "outputs": [
    {
     "data": {
      "text/plain": [
       "5"
      ]
     },
     "execution_count": 473,
     "metadata": {},
     "output_type": "execute_result"
    }
   ],
   "source": [
    "prime(11)"
   ]
  },
  {
   "cell_type": "code",
   "execution_count": null,
   "metadata": {},
   "outputs": [],
   "source": []
  }
 ],
 "metadata": {
  "kernelspec": {
   "display_name": "Python 3",
   "language": "python",
   "name": "python3"
  },
  "language_info": {
   "codemirror_mode": {
    "name": "ipython",
    "version": 3
   },
   "file_extension": ".py",
   "mimetype": "text/x-python",
   "name": "python",
   "nbconvert_exporter": "python",
   "pygments_lexer": "ipython3",
   "version": "3.7.0"
  }
 },
 "nbformat": 4,
 "nbformat_minor": 2
}
